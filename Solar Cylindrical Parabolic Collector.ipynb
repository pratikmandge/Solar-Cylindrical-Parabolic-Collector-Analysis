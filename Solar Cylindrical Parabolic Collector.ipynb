{
 "cells": [
  {
   "cell_type": "code",
   "execution_count": 1,
   "metadata": {},
   "outputs": [],
   "source": [
    "# module\n",
    "import math as m\n",
    "import pandas as pd"
   ]
  },
  {
   "cell_type": "code",
   "execution_count": 2,
   "metadata": {},
   "outputs": [
    {
     "data": {
      "text/plain": [
       "'\\nCalculate:\\n1.\\ti) \\tThe slope of the aperture plane δ\\n    ii)\\tThe angle of incidence on the aperture ϴ\\n2.\\tThe absorbed flux S\\n3.\\tThe convective heat transfer coefficient on the inside surface of the absorber tube hf,\\n4.\\ti) \\tThe collector heat removal factor FR\\nii)\\tOverall loss coefficient Ul\\n5.\\tThe exit temperature of thermic fluid Tfo\\n6.\\tThe instantaneous efficiency ƞib\\n7.\\tThe pressure drop Δp\\n'"
      ]
     },
     "execution_count": 2,
     "metadata": {},
     "output_type": "execute_result"
    }
   ],
   "source": [
    "tracking_mode = 2\n",
    "# Concentrator\n",
    "W = 1.25 # m --> Aperture\n",
    "l = 3.657 # m --> Length\n",
    "# Absorber tube\n",
    "Di_at = 3.81 # cm --> Inner Diameter\n",
    "Do_at = 4.135 # cm --> Outer Diameter\n",
    "# Glass Cover\n",
    "Di_gc = 5.60 # cm --> Inner Diameter\n",
    "Do_gc = 6.30 # cm --> Outer Diameter\n",
    "tape_twist_ratio = 4\n",
    "# Other Design Parameter of Collector\n",
    "ρ_1 = 0.85 # --> Specular reflectivity of concentrator surface\n",
    "τ = 0.85 # --> Glass cover transmissivity\n",
    "ε_c = 0.88 # --> Glass cover emissivity/absorptivity\n",
    "α = 0.95 # --> Absorber tube emissivity/absorptivity\n",
    "γ = 0.95 # --> Intercept factor\n",
    "\n",
    "# Values of the operational and meteorological parameters are as follows:\n",
    "n = 105 # --> days from January till Data: April 15\n",
    "t = 1230 # h --> Time (LAT)\n",
    "I_b = 705 # W/m2\n",
    "I_g = 949 # W/m2\n",
    "T_a = 31.9 # °C --> Ambient Temperature\n",
    "a = 5.3 # m/s --> Wind Speed\n",
    "ṁ = 0.0986 # kg/s --> Mass flow rate of thermic fluid\n",
    "T_fi =  150 # °C --> Inlet temperature\n",
    "\n",
    "'''\n",
    "Calculate:\n",
    "1.\ti) \tThe slope of the aperture plane δ\n",
    "    ii)\tThe angle of incidence on the aperture ϴ\n",
    "2.\tThe absorbed flux S\n",
    "3.\tThe convective heat transfer coefficient on the inside surface of the absorber tube hf,\n",
    "4.\ti) \tThe collector heat removal factor FR\n",
    "ii)\tOverall loss coefficient Ul\n",
    "5.\tThe exit temperature of thermic fluid Tfo\n",
    "6.\tThe instantaneous efficiency ƞib\n",
    "7.\tThe pressure drop Δp\n",
    "'''"
   ]
  },
  {
   "cell_type": "code",
   "execution_count": 3,
   "metadata": {},
   "outputs": [
    {
     "name": "stdout",
     "output_type": "stream",
     "text": [
      "δ = 9.415\n",
      "cos_Θ = 0.9917\n",
      "ϴ 7.387 °\n"
     ]
    }
   ],
   "source": [
    "# 1.\n",
    "# i) The slope of the aperture plane\n",
    "δ = round((23.45*m.sin(m.radians((360/365)*(284+n)))),3)\n",
    "ω = -7.5 # °\n",
    "ф = 19.12 # °\n",
    "β = 9.625 # °\n",
    "ω = -7.5 # °\n",
    "ф = 19.12 # °\n",
    "β = 9.625 # °\n",
    "# ii)\tThe angle of incidence on the aperture ϴ\n",
    "cos_ϴ = round(((1-(((m.cos(m.radians(δ)))**2)*(m.sin(m.radians(ω)))**2))**(1/2)),4)\n",
    "ϴ = round(m.degrees(m.acos(cos_Θ)),3)\n",
    "δ = round((23.45*m.sin(m.radians((360/365)*(284+n)))),3)\n",
    "δ = round((23.45*m.sin(m.radians((360/365)*(284+n)))),3)\n",
    "print(\"δ =\",δ)\n",
    "print(\"cos_Θ =\",cos_Θ)\n",
    "print(\"ϴ\",ϴ,\"°\")\n"
   ]
  },
  {
   "cell_type": "code",
   "execution_count": 4,
   "metadata": {},
   "outputs": [
    {
     "name": "stdout",
     "output_type": "stream",
     "text": [
      "rb = 1.0137\n",
      "S = 485.74 W/m^2\n"
     ]
    }
   ],
   "source": [
    "# 2.The absorbed flux S\n",
    "rb = round((0.9917/(((m.sin(m.radians(ф)))*(m.sin(m.radians(β))))+((m.cos(m.radians(ф)))*(m.cos(m.radians(β)))*(m.cos(m.radians(ω)))))),4)\n",
    "print(\"rb =\",rb)\n",
    "\n",
    "S = round((I_b*rb)*((0.85*0.95*0.85*0.95)+((0.85*0.95*(Do_at/100))/(W-(Do_at/100)))),2)\n",
    "print(\"S =\",S, \"W/m^2\")"
   ]
  },
  {
   "cell_type": "code",
   "execution_count": 5,
   "metadata": {},
   "outputs": [
    {
     "name": "stdout",
     "output_type": "stream",
     "text": [
      "Average Velocity = 0.1153 m/s\n",
      "Laminar flow = 1815.3\n",
      "Prandtl Number = 37.37\n",
      "Nusselt Number = 61.71\n",
      "Heat transfer coefficient = 192.7 W/(m^2)-K\n"
     ]
    }
   ],
   "source": [
    "# 3.    The convective heat transfer coefficient on the inside surface of the absorber tube (hf0)\n",
    "# Thus, Assume\n",
    "ρ = 750.3 # kg/m^2\n",
    "Cp = 2.449 # kJ/kg-K\n",
    "v = 2.42*(10**(-6)) # m^2/s\n",
    "k = 0.119 # W/m-K\n",
    "\n",
    "\n",
    "# Average Velocity\n",
    "V = round((ṁ/(((m.pi/4))*((Di_at/100)**2)*ρ)),4)\n",
    "print(\"Average Velocity =\",V, 'm/s')\n",
    "\n",
    "# Reynolds Number\n",
    "Re = round(((V*(Di_at/100))/v),1)\n",
    "if Re < 2000:\n",
    "    print(\"Laminar flow =\",Re)\n",
    "elif Re <= 4000 and Re > 2000:\n",
    "    print(Re, \"Transition\")\n",
    "else:\n",
    "    print(Re, \"Turbulant flow\")\n",
    "\n",
    "# Prandtl Number\n",
    "Pr = round(((Cp*v*(ρ*1000))/k),2)\n",
    "print(\"Prandtl Number =\",Pr)\n",
    "\n",
    "# Nusselt Number\n",
    "Nu = round((5.172*((1+(0.005484*((Pr*((Re/4)**1.78))**0.7)))**0.5)),2)\n",
    "print(\"Nusselt Number =\",Nu)\n",
    "\n",
    "hf = round((Nu*(k/(Di_at/100))),1)\n",
    "print(\"Heat transfer coefficient =\",hf,'W/(m^2)-K')"
   ]
  },
  {
   "cell_type": "code",
   "execution_count": 6,
   "metadata": {},
   "outputs": [
    {
     "name": "stdout",
     "output_type": "stream",
     "text": [
      "F_ = 0.9304\n",
      "a = 38.275\n",
      "Fr = 0.9192\n",
      "C = 9.304\n",
      "qu = 1288.6 W\n",
      "hl = 858.39 W\n",
      "T_pm_T_a = 136.06 °C\n",
      "c = 440.96 K\n",
      "q_l = 234.0 W/m\n",
      "U_l = 13.25 W/m^2-K\n",
      "T_fo = 155.34 °C\n",
      "ƞ_i = 0.2803\n",
      "ƞ_ib = 0.3706\n",
      "f = 0.0452\n",
      "Δp = N/m^2\n"
     ]
    }
   ],
   "source": [
    "# 4. Collector Heat-removal Factor and Overall Loss Coefficient\n",
    "Ul = 13.28 # W/((m^2)-K)\n",
    "\n",
    "F_ = round((1/(Ul*((1/Ul)+((Do_at/100)/((Di_at/100)*192.7))))),4)\n",
    "print(\"F_ =\",F_)\n",
    "\n",
    "a = round((ṁ*(Cp*(10**3))/(m.pi*(Do_at/100)*Ul*l)),3)\n",
    "print(\"a =\",a)\n",
    "\n",
    "# Heat Removal Factor\n",
    "Fr = round((38.275*(1-(m.exp(-F_/a)))),4)\n",
    "print(\"Fr =\", Fr)\n",
    "\n",
    "# Concentration Ratio C\n",
    "C = round(((W-(Do_at/100))/(m.pi*(Do_at/100))),3)\n",
    "print(\"C =\",C)\n",
    "\n",
    "# Useful heat gain rate qu\n",
    "qu = round((Fr*(W-(Do_at/100))*l*(S-(Ul/C)*(T_fi-T_a))),1)\n",
    "print(\"qu =\",qu,'W')\n",
    "\n",
    "# Therefore rate of heat loss\n",
    "hl = round(((W-(Do_at/100))*l*S-qu ),2)\n",
    "print(\"hl =\",hl,'W')\n",
    "\n",
    "# Hence\n",
    "T_pm_T_a = round((hl/(m.pi*(Do_at/100)*l*Ul)),2)\n",
    "print(\"T_pm_T_a =\",T_pm_T_a,'°C')\n",
    "\n",
    "c = round(273+(T_pm_T_a + T_a),2)\n",
    "print(\"c =\",c,'K')\n",
    "\n",
    "# Assume\n",
    "T_cc = 60.23 # °C\n",
    "T_ck = 333.39 # K\n",
    "hpc = 5.113 # W/(m^2)-K\n",
    "hw = 34.119 # W/(m^2)-K\n",
    "\n",
    "q_l = round((hpc*(c-T_ck)*m.pi*(Do_at/100))+(((5.67*(10**(-8)))*m.pi*(Do_at/100)*((c**4)-(T_ck**4)))/((1/α)+(((Do_at/100)/(Di_gc/100))*((1/ε_c)-1)))),1)\n",
    "print(\"q_l =\", q_l,\"W/m\")\n",
    "\n",
    "U_l = round((q_l/(m.pi*(Do_at/100)*(c-305.06))),2)\n",
    "print(\"U_l =\",U_l,\"W/m^2-K\")\n",
    "\n",
    "# Exit Temperature\n",
    "T_fo = round(((((qu)/(1000))/(ṁ*Cp))+150),2)\n",
    "print(\"T_fo =\",T_fo,'°C')\n",
    "\n",
    "# Instantaneous Efficiency\n",
    "ƞ_i = round((qu/(((ρ*rb)+(244+0.9930))*W*l)),4)\n",
    "print(\"ƞ_i =\",ƞ_i)\n",
    "\n",
    "ƞ_ib = round((qu/((ρ*rb)*W*l)),4)\n",
    "print(\"ƞ_ib =\",ƞ_ib)\n",
    "\n",
    "# Pressure Drop\n",
    "Re_X = round((Re/tape_twist_ratio),2)\n",
    "C_2 = 13.0964\n",
    "f = round(((C_2*(Re_X**0.3))/Re),4)\n",
    "print(\"f =\",f)\n",
    "\n",
    "Δp = round((4*f*ρ*l*(V**2))/(2*(Di_at/100)),1)\n",
    "print(\"Δp =\",(\"N/m^2\"))"
   ]
  },
  {
   "cell_type": "code",
   "execution_count": 61,
   "metadata": {},
   "outputs": [
    {
     "data": {
      "text/html": [
       "<div>\n",
       "<style scoped>\n",
       "    .dataframe tbody tr th:only-of-type {\n",
       "        vertical-align: middle;\n",
       "    }\n",
       "\n",
       "    .dataframe tbody tr th {\n",
       "        vertical-align: top;\n",
       "    }\n",
       "\n",
       "    .dataframe thead th {\n",
       "        text-align: right;\n",
       "    }\n",
       "</style>\n",
       "<table border=\"1\" class=\"dataframe\">\n",
       "  <thead>\n",
       "    <tr style=\"text-align: right;\">\n",
       "      <th></th>\n",
       "      <th>Time</th>\n",
       "      <th>Efficiency ƞib</th>\n",
       "    </tr>\n",
       "  </thead>\n",
       "  <tbody>\n",
       "    <tr>\n",
       "      <th>0</th>\n",
       "      <td>8:30</td>\n",
       "      <td>0.195</td>\n",
       "    </tr>\n",
       "    <tr>\n",
       "      <th>1</th>\n",
       "      <td>09:30</td>\n",
       "      <td>0.218</td>\n",
       "    </tr>\n",
       "    <tr>\n",
       "      <th>2</th>\n",
       "      <td>10:30</td>\n",
       "      <td>0.254</td>\n",
       "    </tr>\n",
       "    <tr>\n",
       "      <th>3</th>\n",
       "      <td>11:20</td>\n",
       "      <td>0.295</td>\n",
       "    </tr>\n",
       "    <tr>\n",
       "      <th>4</th>\n",
       "      <td>12:30</td>\n",
       "      <td>0.395</td>\n",
       "    </tr>\n",
       "    <tr>\n",
       "      <th>5</th>\n",
       "      <td>01:30</td>\n",
       "      <td>0.363</td>\n",
       "    </tr>\n",
       "    <tr>\n",
       "      <th>6</th>\n",
       "      <td>02:30</td>\n",
       "      <td>0.300</td>\n",
       "    </tr>\n",
       "    <tr>\n",
       "      <th>7</th>\n",
       "      <td>03:30</td>\n",
       "      <td>0.247</td>\n",
       "    </tr>\n",
       "    <tr>\n",
       "      <th>8</th>\n",
       "      <td>04:30</td>\n",
       "      <td>0.209</td>\n",
       "    </tr>\n",
       "    <tr>\n",
       "      <th>9</th>\n",
       "      <td>05:30</td>\n",
       "      <td>0.170</td>\n",
       "    </tr>\n",
       "  </tbody>\n",
       "</table>\n",
       "</div>"
      ],
      "text/plain": [
       "    Time  Efficiency ƞib\n",
       "0   8:30           0.195\n",
       "1  09:30           0.218\n",
       "2  10:30           0.254\n",
       "3  11:20           0.295\n",
       "4  12:30           0.395\n",
       "5  01:30           0.363\n",
       "6  02:30           0.300\n",
       "7  03:30           0.247\n",
       "8  04:30           0.209\n",
       "9  05:30           0.170"
      ]
     },
     "metadata": {},
     "output_type": "display_data"
    }
   ],
   "source": [
    "time = [\"8:30\",\"09:30\",\"10:30\",\"11:20\",\"12:30\",\"01:30\",\"02:30\",\"03:30\",\"04:30\",\"05:30\"]\n",
    "efficiency_ƞib = [0.195,0.218,0.254,0.295,0.395,0.363,0.300,0.247,0.209,0.170]\n",
    "df = pd.DataFrame({\"Time\":time,\"Efficiency ƞib\":efficiency_ƞib})\n",
    "display(df)\n",
    "\n"
   ]
  },
  {
   "cell_type": "code",
   "execution_count": 52,
   "metadata": {},
   "outputs": [
    {
     "name": "stdout",
     "output_type": "stream",
     "text": [
      "\n"
     ]
    },
    {
     "data": {
      "image/png": "[encoded data removed]",
      "text/plain": [
       "<Figure size 432x288 with 1 Axes>"
      ]
     },
     "metadata": {
      "needs_background": "light"
     },
     "output_type": "display_data"
    }
   ],
   "source": [
    "line = df.plot.area(x=\"Time\",title=\"Efficiency v/s Time\")\n",
    "line.set_ylabel(\"ƞib\")\n"
   ]
  },
  {
   "cell_type": "code",
   "execution_count": null,
   "metadata": {},
   "outputs": [],
   "source": []
  }
 ],
 "metadata": {
  "kernelspec": {
   "display_name": "Python 3.10.0 64-bit",
   "language": "python",
   "name": "python3"
  },
  "language_info": {
   "codemirror_mode": {
    "name": "ipython",
    "version": 3
   },
   "file_extension": ".py",
   "mimetype": "text/x-python",
   "name": "python",
   "nbconvert_exporter": "python",
   "pygments_lexer": "ipython3",
   "version": "3.10.0"
  },
  "orig_nbformat": 4,
  "vscode": {
   "interpreter": {
    "hash": "8cd316482baa39b21e20e07ef6ecc4a792cca4c43227b042deb7e4b0e7ebc84c"
   }
  }
 },
 "nbformat": 4,
 "nbformat_minor": 2
}
